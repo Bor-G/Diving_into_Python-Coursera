{
 "cells": [
  {
   "cell_type": "markdown",
   "metadata": {},
   "source": [
    "### Работа с методами экземпляра"
   ]
  },
  {
   "cell_type": "code",
   "execution_count": 1,
   "metadata": {},
   "outputs": [],
   "source": [
    "class Human:\n",
    "    \n",
    "    def __init__(self, name, age=0):\n",
    "        self.name = name\n",
    "        self.age = age\n",
    "        \n",
    "class Planet:\n",
    "    \n",
    "    def __init__(self, name, population=None):\n",
    "        self.name = name\n",
    "        self.population = population or []\n",
    "        \n",
    "    def add_human(self, human):\n",
    "        print(f\"Welcome to {self.name}, {human.name}!\")\n",
    "        self.population.append(human)\n",
    "   "
   ]
  },
  {
   "cell_type": "code",
   "execution_count": 2,
   "metadata": {},
   "outputs": [
    {
     "name": "stdout",
     "output_type": "stream",
     "text": [
      "Welcome to Mars, Bob!\n"
     ]
    }
   ],
   "source": [
    "mars = Planet(\"Mars\")\n",
    "bob = Human(\"Bob\")\n",
    "mars.add_human(bob)"
   ]
  },
  {
   "cell_type": "code",
   "execution_count": 3,
   "metadata": {},
   "outputs": [
    {
     "name": "stdout",
     "output_type": "stream",
     "text": [
      "[<__main__.Human object at 0x06247270>]\n"
     ]
    }
   ],
   "source": [
    "print(mars.population)"
   ]
  },
  {
   "cell_type": "markdown",
   "metadata": {},
   "source": [
    "### Вызов методов из методов"
   ]
  },
  {
   "cell_type": "code",
   "execution_count": 4,
   "metadata": {},
   "outputs": [],
   "source": [
    "class Human:\n",
    "    \n",
    "    def __init__(self, name, age=0):\n",
    "        self._name = name\n",
    "        self._age = age\n",
    "        \n",
    "    def _say(self, text):\n",
    "        print(text)\n",
    "        \n",
    "    def say_name(self):\n",
    "        self._say(f\"Hello, I am {self._name}\")\n",
    "        \n",
    "    def say_how_old(self):\n",
    "        self._say(f\"I am {self._age} years old\")"
   ]
  },
  {
   "cell_type": "code",
   "execution_count": 5,
   "metadata": {},
   "outputs": [],
   "source": [
    "bob = Human(\"Bob\", age=29)"
   ]
  },
  {
   "cell_type": "code",
   "execution_count": 6,
   "metadata": {},
   "outputs": [
    {
     "name": "stdout",
     "output_type": "stream",
     "text": [
      "Hello, I am Bob\n",
      "I am 29 years old\n"
     ]
    }
   ],
   "source": [
    "bob.say_name()\n",
    "bob.say_how_old()"
   ]
  },
  {
   "cell_type": "code",
   "execution_count": 7,
   "metadata": {},
   "outputs": [
    {
     "name": "stdout",
     "output_type": "stream",
     "text": [
      "Bob\n",
      "Some words\n"
     ]
    }
   ],
   "source": [
    "# не рекомендуется\n",
    "print(bob._name)\n",
    "\n",
    "# не рекомендуется\n",
    "bob._say(\"Some words\")"
   ]
  },
  {
   "cell_type": "markdown",
   "metadata": {},
   "source": [
    "### Метод класса (@classmethod)"
   ]
  },
  {
   "cell_type": "code",
   "execution_count": 8,
   "metadata": {},
   "outputs": [],
   "source": [
    "class Event:\n",
    "    \n",
    "    def __init__(self, description, event_date):\n",
    "        self.description = description\n",
    "        self.date = event_date\n",
    "        \n",
    "    def __str__(self):\n",
    "        return f\"Event \\\"{self.description}\\\" at {self.date}\""
   ]
  },
  {
   "cell_type": "code",
   "execution_count": 9,
   "metadata": {},
   "outputs": [
    {
     "name": "stdout",
     "output_type": "stream",
     "text": [
      "Event \"Рассказать, что такое @classmethod\" at 2018-07-26\n"
     ]
    }
   ],
   "source": [
    "from datetime import date\n",
    "\n",
    "event_description = \"Рассказать, что такое @classmethod\"\n",
    "event_date = date.today()\n",
    "\n",
    "event = Event(event_description, event_date)\n",
    "print(event)\n"
   ]
  },
  {
   "cell_type": "code",
   "execution_count": 10,
   "metadata": {},
   "outputs": [],
   "source": [
    "def extract_description(user_string):\n",
    "    return \"открытие чемпионата мира по футболу\"\n",
    "\n",
    "\n",
    "def extract_date(user_string):\n",
    "    return date(2018, 6, 14)\n",
    "\n",
    "\n",
    "class Event:\n",
    " \n",
    "    def __init__(self, description, event_date):\n",
    "        self.description = description\n",
    "        self.date = event_date\n",
    "    \n",
    "    def __str__(self):\n",
    "        return f\"Event \\\"{self.description}\\\" at {self.date}\"\n",
    "\n",
    "    @classmethod                  # декоратор (встроенный), который делает метод методом класса\n",
    "    def from_string(cls, user_input):\n",
    "        description = extract_description(user_input)\n",
    "        date = extract_date(user_input)\n",
    "        return cls(description, date)"
   ]
  },
  {
   "cell_type": "code",
   "execution_count": 11,
   "metadata": {},
   "outputs": [
    {
     "name": "stdout",
     "output_type": "stream",
     "text": [
      "Event \"открытие чемпионата мира по футболу\" at 2018-06-14\n"
     ]
    }
   ],
   "source": [
    "event = Event.from_string(\"добавить в мой календарь открытие чемпионата мира по футболу на 14 июня 2018 года\")\n",
    "print(event)"
   ]
  },
  {
   "cell_type": "code",
   "execution_count": 12,
   "metadata": {},
   "outputs": [
    {
     "data": {
      "text/plain": [
       "{'1': None, '2': None, '3': None, '4': None, '5': None}"
      ]
     },
     "execution_count": 12,
     "metadata": {},
     "output_type": "execute_result"
    }
   ],
   "source": [
    "dict.fromkeys(\"12345\")"
   ]
  },
  {
   "cell_type": "markdown",
   "metadata": {},
   "source": [
    "### Статический метод класса (@staticmethod)"
   ]
  },
  {
   "cell_type": "code",
   "execution_count": 1,
   "metadata": {},
   "outputs": [],
   "source": [
    "class Human:\n",
    " \n",
    "    def __init__(self, name, age=0):\n",
    "        self.name = name\n",
    "        self.age = age\n",
    "\n",
    "    @staticmethod\n",
    "    def is_age_valid(age):\n",
    "        return 0 < age < 150"
   ]
  },
  {
   "cell_type": "code",
   "execution_count": 2,
   "metadata": {},
   "outputs": [
    {
     "data": {
      "text/plain": [
       "True"
      ]
     },
     "execution_count": 2,
     "metadata": {},
     "output_type": "execute_result"
    }
   ],
   "source": [
    "# можно обращаться от имени класса\n",
    "Human.is_age_valid(35)"
   ]
  },
  {
   "cell_type": "code",
   "execution_count": 3,
   "metadata": {},
   "outputs": [
    {
     "data": {
      "text/plain": [
       "False"
      ]
     },
     "execution_count": 3,
     "metadata": {},
     "output_type": "execute_result"
    }
   ],
   "source": [
    "# или от экземпляра:\n",
    "human = Human(\"Old Bobby\")\n",
    "human.is_age_valid(234)"
   ]
  },
  {
   "cell_type": "markdown",
   "metadata": {},
   "source": [
    "### Вычисляемые свойства класса (property)"
   ]
  },
  {
   "cell_type": "code",
   "execution_count": 4,
   "metadata": {},
   "outputs": [
    {
     "name": "stdout",
     "output_type": "stream",
     "text": [
      "200\n"
     ]
    }
   ],
   "source": [
    "class Robot:\n",
    "\n",
    "    def __init__(self, power):\n",
    "        self.power = power\n",
    "\n",
    "wall_e = Robot(100)\n",
    "wall_e.power = 200\n",
    "print(wall_e.power)"
   ]
  },
  {
   "cell_type": "code",
   "execution_count": 5,
   "metadata": {},
   "outputs": [],
   "source": [
    "wall_e.power = -20"
   ]
  },
  {
   "cell_type": "code",
   "execution_count": 6,
   "metadata": {},
   "outputs": [],
   "source": [
    "class Robot:\n",
    "\n",
    "    def __init__(self, power):\n",
    "        self.power = power\n",
    "    \n",
    "    def set_power(self, power):\n",
    "        if power < 0:\n",
    "            self.power = 0\n",
    "        else:\n",
    "            self.power = power"
   ]
  },
  {
   "cell_type": "code",
   "execution_count": 10,
   "metadata": {},
   "outputs": [
    {
     "name": "stdout",
     "output_type": "stream",
     "text": [
      "0\n"
     ]
    }
   ],
   "source": [
    "wall_e = Robot(100)\n",
    "wall_e.set_power(-20)\n",
    "print(wall_e.power)"
   ]
  },
  {
   "cell_type": "code",
   "execution_count": 11,
   "metadata": {},
   "outputs": [],
   "source": [
    "class Robot:\n",
    " \n",
    "    def __init__(self, power):\n",
    "        self._power = power\n",
    "\n",
    "    power = property()\n",
    "\n",
    "    @power.setter\n",
    "    def power(self, value):\n",
    "        if value < 0:\n",
    "            self._power = 0\n",
    "        else:\n",
    "            self._power = value\n",
    "\n",
    "    @power.getter\n",
    "    def power(self):\n",
    "        return self._power\n",
    "    \n",
    "    @power.deleter\n",
    "    def power(self):\n",
    "        print(\"make robot useless\")\n",
    "        del self._power"
   ]
  },
  {
   "cell_type": "code",
   "execution_count": 12,
   "metadata": {},
   "outputs": [
    {
     "name": "stdout",
     "output_type": "stream",
     "text": [
      "0\n"
     ]
    }
   ],
   "source": [
    "wall_e = Robot(100)\n",
    "wall_e.power = -20\n",
    "print(wall_e.power)"
   ]
  },
  {
   "cell_type": "code",
   "execution_count": 13,
   "metadata": {},
   "outputs": [
    {
     "name": "stdout",
     "output_type": "stream",
     "text": [
      "make robot useless\n"
     ]
    }
   ],
   "source": [
    "del wall_e.power"
   ]
  },
  {
   "cell_type": "code",
   "execution_count": 14,
   "metadata": {},
   "outputs": [],
   "source": [
    "class Robot:\n",
    "    def __init__(self, power):\n",
    "        self._power = power\n",
    "    \n",
    "    @property\n",
    "    def power(self):\n",
    "        # здесь могут быть любые полезные вычисления\n",
    "        return self._power"
   ]
  },
  {
   "cell_type": "code",
   "execution_count": 15,
   "metadata": {},
   "outputs": [
    {
     "data": {
      "text/plain": [
       "200"
      ]
     },
     "execution_count": 15,
     "metadata": {},
     "output_type": "execute_result"
    }
   ],
   "source": [
    "wall_e = Robot(200)\n",
    "wall_e.power"
   ]
  },
  {
   "cell_type": "code",
   "execution_count": 4,
   "metadata": {},
   "outputs": [],
   "source": [
    "class Robot:\n",
    "    def __init__(self, power):\n",
    "        self._power = power\n",
    "    \n",
    "    @property\n",
    "    def power(self):\n",
    "        # здесь могут быть любые полезные вычисления\n",
    "        if self._power < 0:\n",
    "            self._power = 0\n",
    "        return self._power"
   ]
  },
  {
   "cell_type": "code",
   "execution_count": 5,
   "metadata": {},
   "outputs": [
    {
     "data": {
      "text/plain": [
       "0"
      ]
     },
     "execution_count": 5,
     "metadata": {},
     "output_type": "execute_result"
    }
   ],
   "source": [
    "wall_e = Robot(-200)\n",
    "wall_e.power"
   ]
  },
  {
   "cell_type": "code",
   "execution_count": 6,
   "metadata": {},
   "outputs": [
    {
     "data": {
      "text/plain": [
       "200"
      ]
     },
     "execution_count": 6,
     "metadata": {},
     "output_type": "execute_result"
    }
   ],
   "source": [
    "wall_e = Robot(200)\n",
    "wall_e.power"
   ]
  },
  {
   "cell_type": "code",
   "execution_count": null,
   "metadata": {},
   "outputs": [],
   "source": []
  }
 ],
 "metadata": {
  "kernelspec": {
   "display_name": "Python 3",
   "language": "python",
   "name": "python3"
  },
  "language_info": {
   "codemirror_mode": {
    "name": "ipython",
    "version": 3
   },
   "file_extension": ".py",
   "mimetype": "text/x-python",
   "name": "python",
   "nbconvert_exporter": "python",
   "pygments_lexer": "ipython3",
   "version": "3.7.0"
  }
 },
 "nbformat": 4,
 "nbformat_minor": 2
}
