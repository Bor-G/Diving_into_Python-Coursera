{
 "cells": [
  {
   "cell_type": "markdown",
   "metadata": {},
   "source": [
    "## Наследование в Python"
   ]
  },
  {
   "cell_type": "markdown",
   "metadata": {},
   "source": [
    "### Класс Pet, домашний питомец"
   ]
  },
  {
   "cell_type": "code",
   "execution_count": 1,
   "metadata": {},
   "outputs": [],
   "source": [
    "class Pet:\n",
    "    def __init__(self, name=None):\n",
    "        self.name = name"
   ]
  },
  {
   "cell_type": "markdown",
   "metadata": {},
   "source": [
    "### Наследование, класс Dog"
   ]
  },
  {
   "cell_type": "code",
   "execution_count": 8,
   "metadata": {},
   "outputs": [],
   "source": [
    "class Dog(Pet):\n",
    "    def __init__(self, name, breed=None):\n",
    "        super().__init__(name)\n",
    "        self.breed = breed\n",
    "    \n",
    "    def say(self):\n",
    "        return \"{0}: waw\".format(self.name)"
   ]
  },
  {
   "cell_type": "code",
   "execution_count": 9,
   "metadata": {},
   "outputs": [
    {
     "name": "stdout",
     "output_type": "stream",
     "text": [
      "Шарик\n"
     ]
    }
   ],
   "source": [
    "dog = Dog(\"Шарик\", \"Доберман\")\n",
    "print(dog.name)"
   ]
  },
  {
   "cell_type": "code",
   "execution_count": 10,
   "metadata": {},
   "outputs": [
    {
     "name": "stdout",
     "output_type": "stream",
     "text": [
      "Шарик: waw\n"
     ]
    }
   ],
   "source": [
    "print(dog.say())"
   ]
  },
  {
   "cell_type": "markdown",
   "metadata": {},
   "source": [
    "### Множественное наследование"
   ]
  },
  {
   "cell_type": "code",
   "execution_count": 11,
   "metadata": {},
   "outputs": [],
   "source": [
    "import json \n",
    "\n",
    "class ExportJSON:\n",
    "    def to_json(self):\n",
    "        return json.dumps({\n",
    "            \"name\": self.name,\n",
    "            \"breed\": self.breed\n",
    "        })\n",
    "\n",
    "class ExDog(Dog, ExportJSON):\n",
    "    pass"
   ]
  },
  {
   "cell_type": "code",
   "execution_count": 12,
   "metadata": {},
   "outputs": [
    {
     "name": "stdout",
     "output_type": "stream",
     "text": [
      "{\"name\": \"\\u0411\\u0435\\u043b\\u043a\\u0430\", \"breed\": \"\\u0414\\u0432\\u043e\\u0440\\u043d\\u044f\\u0436\\u043a\\u0430\"}\n"
     ]
    }
   ],
   "source": [
    ">>> dog = ExDog(\"Белка\", breed=\"Дворняжка\")\n",
    ">>> print(dog.to_json())"
   ]
  },
  {
   "cell_type": "markdown",
   "metadata": {},
   "source": [
    "### Любой класс является потомком object"
   ]
  },
  {
   "cell_type": "code",
   "execution_count": 15,
   "metadata": {},
   "outputs": [
    {
     "data": {
      "text/plain": [
       "True"
      ]
     },
     "execution_count": 15,
     "metadata": {},
     "output_type": "execute_result"
    }
   ],
   "source": [
    "issubclass(int, object)"
   ]
  },
  {
   "cell_type": "code",
   "execution_count": 16,
   "metadata": {},
   "outputs": [
    {
     "data": {
      "text/plain": [
       "True"
      ]
     },
     "execution_count": 16,
     "metadata": {},
     "output_type": "execute_result"
    }
   ],
   "source": [
    "issubclass(Dog, object)"
   ]
  },
  {
   "cell_type": "code",
   "execution_count": 17,
   "metadata": {},
   "outputs": [
    {
     "data": {
      "text/plain": [
       "True"
      ]
     },
     "execution_count": 17,
     "metadata": {},
     "output_type": "execute_result"
    }
   ],
   "source": [
    "issubclass(Dog, Pet)"
   ]
  },
  {
   "cell_type": "code",
   "execution_count": 18,
   "metadata": {},
   "outputs": [
    {
     "data": {
      "text/plain": [
       "False"
      ]
     },
     "execution_count": 18,
     "metadata": {},
     "output_type": "execute_result"
    }
   ],
   "source": [
    "issubclass(Dog, int)"
   ]
  },
  {
   "cell_type": "markdown",
   "metadata": {},
   "source": [
    "### Объект является экземляром класса?"
   ]
  },
  {
   "cell_type": "code",
   "execution_count": 19,
   "metadata": {},
   "outputs": [
    {
     "data": {
      "text/plain": [
       "True"
      ]
     },
     "execution_count": 19,
     "metadata": {},
     "output_type": "execute_result"
    }
   ],
   "source": [
    "isinstance(dog, Dog)"
   ]
  },
  {
   "cell_type": "code",
   "execution_count": 20,
   "metadata": {},
   "outputs": [
    {
     "data": {
      "text/plain": [
       "True"
      ]
     },
     "execution_count": 20,
     "metadata": {},
     "output_type": "execute_result"
    }
   ],
   "source": [
    "isinstance(dog, Pet)"
   ]
  },
  {
   "cell_type": "code",
   "execution_count": 21,
   "metadata": {},
   "outputs": [
    {
     "data": {
      "text/plain": [
       "True"
      ]
     },
     "execution_count": 21,
     "metadata": {},
     "output_type": "execute_result"
    }
   ],
   "source": [
    "isinstance(dog, object)"
   ]
  },
  {
   "cell_type": "markdown",
   "metadata": {},
   "source": [
    "### Поиск атрибутов и методов объекта, линеаризация класса"
   ]
  },
  {
   "cell_type": "code",
   "execution_count": 22,
   "metadata": {},
   "outputs": [
    {
     "data": {
      "text/plain": [
       "(__main__.ExDog, __main__.Dog, __main__.Pet, __main__.ExportJSON, object)"
      ]
     },
     "execution_count": 22,
     "metadata": {},
     "output_type": "execute_result"
    }
   ],
   "source": [
    "#     object\n",
    "#     /   \\\n",
    "#    /     \\\n",
    "#  Pet    ExportJSON\n",
    "#   |      /\n",
    "#  Dog    /\n",
    "#    \\   /\n",
    "#    ExDog\n",
    "\n",
    "# Method Resolution Order\n",
    "\n",
    "ExDog.__mro__"
   ]
  },
  {
   "cell_type": "markdown",
   "metadata": {},
   "source": [
    "### Использование super()"
   ]
  },
  {
   "cell_type": "code",
   "execution_count": 23,
   "metadata": {},
   "outputs": [],
   "source": [
    "class ExDog(Dog, ExportJSON):\n",
    "    def __init__(self, name, breed=None):\n",
    "        # вызов метода по MRO\n",
    "        super().__init__(name, breed)\n",
    "        # super(ExDog, self).__init__(name)\n",
    "        \n",
    "class WoolenDog(Dog, ExportJSON):\n",
    "    def __init__(self, name, breed=None):\n",
    "        # явное указание метода конкретного класса\n",
    "        super(Dog, self).__init__(name)\n",
    "        self.breed = \"Шерстяная собака породы {0}\".format(breed)"
   ]
  },
  {
   "cell_type": "code",
   "execution_count": 25,
   "metadata": {},
   "outputs": [
    {
     "name": "stdout",
     "output_type": "stream",
     "text": [
      "Шерстяная собака породы Такса\n"
     ]
    }
   ],
   "source": [
    "dog = WoolenDog(\"Жучка\", breed=\"Такса\")\n",
    "print(dog.breed)"
   ]
  },
  {
   "cell_type": "markdown",
   "metadata": {},
   "source": [
    "### Разрешение конфликта имен, name mangling"
   ]
  },
  {
   "cell_type": "code",
   "execution_count": 29,
   "metadata": {},
   "outputs": [],
   "source": [
    "class Dog(Pet):\n",
    "    def __init__(self, name, breed=None):\n",
    "        super().__init__(name)\n",
    "        self.__breed = breed\n",
    "    \n",
    "    def say(self):\n",
    "        return \"{0}: waw!\".format(self.name)\n",
    "    \n",
    "    def get_breed(self):\n",
    "        return self.__breed\n",
    "\n",
    "class ExDog(Dog, ExportJSON):\n",
    "    def get_breed(self):\n",
    "        return \"порода: {0} - {1}\".format(self.name, self._Dog__breed)"
   ]
  },
  {
   "cell_type": "code",
   "execution_count": 30,
   "metadata": {},
   "outputs": [
    {
     "data": {
      "text/plain": [
       "{'name': 'Фокс', '_Dog__breed': 'Мопс'}"
      ]
     },
     "execution_count": 30,
     "metadata": {},
     "output_type": "execute_result"
    }
   ],
   "source": [
    "dog = ExDog(\"Фокс\", \"Мопс\")\n",
    "dog.__dict__"
   ]
  },
  {
   "cell_type": "code",
   "execution_count": 31,
   "metadata": {},
   "outputs": [
    {
     "data": {
      "text/plain": [
       "'порода: Фокс - Мопс'"
      ]
     },
     "execution_count": 31,
     "metadata": {},
     "output_type": "execute_result"
    }
   ],
   "source": [
    "dog.get_breed()"
   ]
  },
  {
   "cell_type": "markdown",
   "metadata": {},
   "source": [
    "### Композиция VS наследование"
   ]
  },
  {
   "cell_type": "code",
   "execution_count": 32,
   "metadata": {},
   "outputs": [],
   "source": [
    "class ExportJSON:\n",
    "    def to_json(self):\n",
    "        pass\n",
    "    \n",
    "class ExportXML:\n",
    "    def to_xml(self):\n",
    "        pass\n",
    "\n",
    "class ExDog(Dog, ExportJSON, ExportXML):\n",
    "      pass"
   ]
  },
  {
   "cell_type": "code",
   "execution_count": 33,
   "metadata": {},
   "outputs": [],
   "source": [
    "dog = ExDog(\"Фокс\", \"мопс\")"
   ]
  },
  {
   "cell_type": "code",
   "execution_count": 34,
   "metadata": {},
   "outputs": [],
   "source": [
    "dog.to_xml()"
   ]
  },
  {
   "cell_type": "code",
   "execution_count": 35,
   "metadata": {},
   "outputs": [],
   "source": [
    "dog.to_json()"
   ]
  },
  {
   "cell_type": "code",
   "execution_count": 38,
   "metadata": {},
   "outputs": [],
   "source": [
    "import json\n",
    "\n",
    "\n",
    "class Pet:\n",
    "    def __init__(self, name):\n",
    "        self.name = name\n",
    "\n",
    "\n",
    "class Dog(Pet):\n",
    "    def __init__(self, name, breed=None):\n",
    "        super().__init__(name)\n",
    "        self.breed = breed\n",
    "    \n",
    "    def say(self):\n",
    "        return \"{0}: waw\".format(self.name)\n",
    "\n",
    "\n",
    "class PetExport:\n",
    "    def export(self, dog):\n",
    "        raise NotImplementedError\n",
    "\n",
    "\n",
    "class ExportXML(PetExport):\n",
    "    def export(self, dog):\n",
    "        return \"\"\"<xml version=\"1.0\" encoding=\"utf-8\">\n",
    "<dog>\n",
    "  <name>{0}</name>\n",
    "  <breed>{1}</breed>\n",
    "</dog>\"\"\".format(dog.name, dog.breed)\n",
    "\n",
    "\n",
    "class ExportJSON(PetExport):\n",
    "    def export(self, dog):\n",
    "        return json.dumps({\n",
    "            \"name\": dog.name,\n",
    "            \"breed\": dog.breed,\n",
    "        })\n",
    "\n",
    "\n",
    "class ExDog(Dog):\n",
    "    def __init__(self, name, breed=None, exporter=None):\n",
    "        super().__init__(name, breed)\n",
    "        \n",
    "        self._exporter = exporter or ExportJSON()\n",
    "\n",
    "        if not isinstance(self._exporter, PetExport):\n",
    "            raise ValueEror(\"bad export instance value\", exporter)\n",
    "    \n",
    "    def export(self):\n",
    "        return self._exporter.export(self)"
   ]
  },
  {
   "cell_type": "code",
   "execution_count": 39,
   "metadata": {},
   "outputs": [
    {
     "name": "stdout",
     "output_type": "stream",
     "text": [
      "<xml version=\"1.0\" encoding=\"utf-8\">\n",
      "<dog>\n",
      "  <name>Фокс</name>\n",
      "  <breed>мопс</breed>\n",
      "</dog>\n"
     ]
    }
   ],
   "source": [
    "fox = ExDog(\"Фокс\", \"мопс\", exporter=ExportXML())\n",
    "print(fox.export())"
   ]
  },
  {
   "cell_type": "code",
   "execution_count": 40,
   "metadata": {},
   "outputs": [
    {
     "name": "stdout",
     "output_type": "stream",
     "text": [
      "{\"name\": \"\\u041c\\u0443\\u0445\\u0442\\u0430\\u0440\", \"breed\": \"\\u043f\\u0438\\u0442\\u0431\\u0443\\u043b\\u044c\"}\n"
     ]
    }
   ],
   "source": [
    "muhtar = ExDog(\"Мухтар\", \"питбуль\")\n",
    "print(muhtar.export())"
   ]
  },
  {
   "cell_type": "code",
   "execution_count": null,
   "metadata": {},
   "outputs": [],
   "source": []
  }
 ],
 "metadata": {
  "kernelspec": {
   "display_name": "Python 3",
   "language": "python",
   "name": "python3"
  },
  "language_info": {
   "codemirror_mode": {
    "name": "ipython",
    "version": 3
   },
   "file_extension": ".py",
   "mimetype": "text/x-python",
   "name": "python",
   "nbconvert_exporter": "python",
   "pygments_lexer": "ipython3",
   "version": "3.7.0"
  }
 },
 "nbformat": 4,
 "nbformat_minor": 2
}
