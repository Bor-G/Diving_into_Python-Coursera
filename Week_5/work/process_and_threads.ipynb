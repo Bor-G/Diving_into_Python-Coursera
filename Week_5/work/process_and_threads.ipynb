{
 "cells": [
  {
   "cell_type": "code",
   "execution_count": null,
   "metadata": {},
   "outputs": [],
   "source": [
    "import time\n",
    "import os\n",
    "\n",
    "pid = os.fork()\n",
    "if pid == 0:\n",
    "    # дочерний процесс\n",
    "    while True:\n",
    "        print(\"child:\", os.getpid())\n",
    "        time.sleep(5)\n",
    "else:\n",
    "    # родительский процесс\n",
    "    print(\"parent:\", os.getpid())\n",
    "    os.wait()"
   ]
  },
  {
   "cell_type": "code",
   "execution_count": null,
   "metadata": {},
   "outputs": [],
   "source": [
    "# Память родительского и дочернего процесса\n",
    "\n",
    "import os\n",
    "\n",
    "foo = \"bar\"\n",
    "\n",
    "if os.fork() == 0:\n",
    "    # дочерний процесс\n",
    "    foo = \"baz\"\n",
    "    print(\"child:\", foo)\n",
    "else:\n",
    "    # родительский процесс\n",
    "    print(\"parent:\", foo)\n",
    "    os.wait()"
   ]
  },
  {
   "cell_type": "code",
   "execution_count": null,
   "metadata": {},
   "outputs": [],
   "source": [
    "# Файлы в родительском и дочернем процессе\n",
    "\n",
    "# $ cat data.txt\n",
    "# example string1\n",
    "# example string2\n",
    "\n",
    "import os\n",
    "\n",
    "f = open(\"data.txt\")\n",
    "foo = f.readline()\n",
    "\n",
    "if os.fork() == 0:\n",
    "    # дочерний процесс\n",
    "    foo = f.readline()\n",
    "    print(\"child:\", foo)\n",
    "else:\n",
    "    # родительский процесс\n",
    "    foo = f.readline()\n",
    "    print(\"parent:\", foo)"
   ]
  },
  {
   "cell_type": "code",
   "execution_count": null,
   "metadata": {},
   "outputs": [],
   "source": [
    "# Создание процесса, модуль multiprocessing\n",
    "\n",
    "from multiprocessing import Process\n",
    "\n",
    "def f(name):\n",
    "    print(\"hello\", name)\n",
    "\n",
    "p = Process(target=f, args=(\"Bob\",))\n",
    "p.start()\n",
    "p.join()"
   ]
  },
  {
   "cell_type": "code",
   "execution_count": null,
   "metadata": {},
   "outputs": [],
   "source": [
    "# Создание процесса, модуль multiprocessing\n",
    "\n",
    "from multiprocessing import Process\n",
    "\n",
    "class PrintProcess(Process):\n",
    "    def __init__(self, name):\n",
    "        super().__init__()\n",
    "        self.name = name\n",
    "\n",
    "    def run(self):\n",
    "        print(\"hello\", self.name)\n",
    "\n",
    "p = PrintProcess(\"Mike\")\n",
    "p.start()\n",
    "p.join()"
   ]
  },
  {
   "cell_type": "code",
   "execution_count": null,
   "metadata": {},
   "outputs": [],
   "source": [
    "# Создание потока\n",
    "\n",
    "from threading import Thread\n",
    "\n",
    "def f(name):\n",
    "    print(\"hello\", name)\n",
    "\n",
    "th = Thread(target=f, args=(\"Bob\",))\n",
    "th.start()\n",
    "th.join()"
   ]
  },
  {
   "cell_type": "code",
   "execution_count": 1,
   "metadata": {},
   "outputs": [
    {
     "data": {
      "text/plain": [
       "(15, 10)"
      ]
     },
     "execution_count": 1,
     "metadata": {},
     "output_type": "execute_result"
    }
   ],
   "source": [
    "# Синхронизация потоков, race condition\n",
    "\n",
    "import threading\n",
    "\n",
    "class Point(object):\n",
    "    def __init__(self, x, y):\n",
    "        self.set(x, y)\n",
    "\n",
    "    def get(self):\n",
    "        return (self.x, self.y)\n",
    "\n",
    "    def set(self, x, y):\n",
    "        self.x = x\n",
    "        self.y = y\n",
    "\n",
    "# use in threads\n",
    "my_point = Point(10, 20)\n",
    "my_point.set(15, 10)\n",
    "my_point.get()"
   ]
  },
  {
   "cell_type": "code",
   "execution_count": 2,
   "metadata": {},
   "outputs": [
    {
     "data": {
      "text/plain": [
       "(15, 10)"
      ]
     },
     "execution_count": 2,
     "metadata": {},
     "output_type": "execute_result"
    }
   ],
   "source": [
    "# Синхронизация потоков, блокировки\n",
    "\n",
    "import threading\n",
    "\n",
    "class Point(object):\n",
    "    def __init__(self, x, y):\n",
    "        self.mutex = threading.RLock()\n",
    "        self.set(x, y)\n",
    "\n",
    "    def get(self):\n",
    "        with self.mutex:\n",
    "            return (self.x, self.y)\n",
    "\n",
    "    def set(self, x, y):\n",
    "        with self.mutex:\n",
    "            self.x = x\n",
    "            self.y = y\n",
    "\n",
    "# use in threads\n",
    "my_point = Point(10, 20)\n",
    "my_point.set(15, 10)\n",
    "my_point.get()"
   ]
  },
  {
   "cell_type": "code",
   "execution_count": 3,
   "metadata": {},
   "outputs": [],
   "source": [
    "# Синхронизация потоков, блокировки\n",
    "\n",
    "import threading\n",
    "\n",
    "\n",
    "a = threading.RLock()\n",
    "b = threading.RLock()\n",
    "\n",
    "def foo():\n",
    "    try:\n",
    "        a.acquire()\n",
    "        b.acquire()\n",
    "    finally:\n",
    "        a.release()\n",
    "        b.release()"
   ]
  },
  {
   "cell_type": "code",
   "execution_count": 4,
   "metadata": {},
   "outputs": [],
   "source": [
    "# Синхронизация потоков, условные переменные\n",
    "\n",
    "class Queue(object):\n",
    "    def __init__(self, size=5):\n",
    "        self._size = size\n",
    "        self._queue = []\n",
    "        self._mutex = threading.RLock()\n",
    "        self._empty = threading.Condition(self._mutex)\n",
    "        self._full = threading.Condition(self._mutex)\n",
    "    \n",
    "    def put(self, val):\n",
    "        with self._full:\n",
    "            while len(self._queue) >= self._size:\n",
    "                self._full.wait()\n",
    "            \n",
    "            self._queue.append(val)\n",
    "            self._empty.notify()\n",
    "\n",
    "    def get(self):\n",
    "        with self._empty:\n",
    "            while len(self._queue) == 0:\n",
    "                self._empty.wait()\n",
    "            \n",
    "            ret = self._queue.pop(0)\n",
    "            self._full.notify()\n",
    "            return ret"
   ]
  },
  {
   "cell_type": "code",
   "execution_count": 1,
   "metadata": {},
   "outputs": [
    {
     "name": "stdout",
     "output_type": "stream",
     "text": [
      "33.93716335296631\n",
      "36.547627449035645\n"
     ]
    }
   ],
   "source": [
    "# cpu bound programm\n",
    "\n",
    "from threading import Thread\n",
    "import time\n",
    "\n",
    "def count(n):\n",
    "    while n > 0:\n",
    "        n -= 1\n",
    "\n",
    "# series run\n",
    "t0 = time.time()\n",
    "count(100_000_000)\n",
    "count(100_000_000)\n",
    "print(time.time() - t0)\n",
    "\n",
    "# parallel run\n",
    "t0 = time.time()\n",
    "th1 = Thread(target=count, args=(100_000_000,))\n",
    "th2 = Thread(target=count, args=(100_000_000,))\n",
    "\n",
    "th1.start(); th2.start()\n",
    "th1.join(); th2.join()\n",
    "print(time.time() - t0)"
   ]
  },
  {
   "cell_type": "code",
   "execution_count": null,
   "metadata": {},
   "outputs": [],
   "source": []
  }
 ],
 "metadata": {
  "kernelspec": {
   "display_name": "Python 3",
   "language": "python",
   "name": "python3"
  },
  "language_info": {
   "codemirror_mode": {
    "name": "ipython",
    "version": 3
   },
   "file_extension": ".py",
   "mimetype": "text/x-python",
   "name": "python",
   "nbconvert_exporter": "python",
   "pygments_lexer": "ipython3",
   "version": "3.7.0"
  }
 },
 "nbformat": 4,
 "nbformat_minor": 2
}
