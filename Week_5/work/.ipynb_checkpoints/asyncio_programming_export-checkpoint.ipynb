{
 "cells": [
  {
   "cell_type": "markdown",
   "metadata": {},
   "source": [
    "##### Обработка запросов в один поток\n",
    "Модуль select  \n",
    "Модуль select используется для организации неблокирующего ввода/вывода.  \n",
    "Существуют несколько механизмов опроса файловых дескрипторов:  \n",
    "select.select(...)  \n",
    "select.poll(...)  \n",
    "select.epoll(...)  \n",
    "select.kqueue(...)  "
   ]
  },
  {
   "cell_type": "code",
   "execution_count": 1,
   "metadata": {},
   "outputs": [
    {
     "ename": "AttributeError",
     "evalue": "module 'select' has no attribute 'epoll'",
     "output_type": "error",
     "traceback": [
      "\u001b[1;31m---------------------------------------------------------------------------\u001b[0m",
      "\u001b[1;31mAttributeError\u001b[0m                            Traceback (most recent call last)",
      "\u001b[1;32m<ipython-input-1-636e109c3b31>\u001b[0m in \u001b[0;36m<module>\u001b[1;34m()\u001b[0m\n\u001b[0;32m     16\u001b[0m \u001b[0mconn2\u001b[0m\u001b[1;33m.\u001b[0m\u001b[0msetblocking\u001b[0m\u001b[1;33m(\u001b[0m\u001b[1;36m0\u001b[0m\u001b[1;33m)\u001b[0m\u001b[1;33m\u001b[0m\u001b[0m\n\u001b[0;32m     17\u001b[0m \u001b[1;33m\u001b[0m\u001b[0m\n\u001b[1;32m---> 18\u001b[1;33m \u001b[0mepoll\u001b[0m \u001b[1;33m=\u001b[0m \u001b[0mselect\u001b[0m\u001b[1;33m.\u001b[0m\u001b[0mepoll\u001b[0m\u001b[1;33m(\u001b[0m\u001b[1;33m)\u001b[0m\u001b[1;33m\u001b[0m\u001b[0m\n\u001b[0m\u001b[0;32m     19\u001b[0m \u001b[0mepoll\u001b[0m\u001b[1;33m.\u001b[0m\u001b[0mregister\u001b[0m\u001b[1;33m(\u001b[0m\u001b[0mconn1\u001b[0m\u001b[1;33m.\u001b[0m\u001b[0mfileno\u001b[0m\u001b[1;33m(\u001b[0m\u001b[1;33m)\u001b[0m\u001b[1;33m,\u001b[0m \u001b[0mselect\u001b[0m\u001b[1;33m.\u001b[0m\u001b[0mEPOLLIN\u001b[0m \u001b[1;33m|\u001b[0m \u001b[0mselect\u001b[0m\u001b[1;33m.\u001b[0m\u001b[0mEPOLLOUT\u001b[0m\u001b[1;33m)\u001b[0m\u001b[1;33m\u001b[0m\u001b[0m\n\u001b[0;32m     20\u001b[0m \u001b[0mepoll\u001b[0m\u001b[1;33m.\u001b[0m\u001b[0mregister\u001b[0m\u001b[1;33m(\u001b[0m\u001b[0mconn2\u001b[0m\u001b[1;33m.\u001b[0m\u001b[0mfileno\u001b[0m\u001b[1;33m(\u001b[0m\u001b[1;33m)\u001b[0m\u001b[1;33m,\u001b[0m \u001b[0mselect\u001b[0m\u001b[1;33m.\u001b[0m\u001b[0mEPOLLIN\u001b[0m \u001b[1;33m|\u001b[0m \u001b[0mselect\u001b[0m\u001b[1;33m.\u001b[0m\u001b[0mEPOLLOUT\u001b[0m\u001b[1;33m)\u001b[0m\u001b[1;33m\u001b[0m\u001b[0m\n",
      "\u001b[1;31mAttributeError\u001b[0m: module 'select' has no attribute 'epoll'"
     ]
    }
   ],
   "source": [
    "# Неблокирующий ввод/вывод, обучающий пример\n",
    "\n",
    "import socket\n",
    "import select\n",
    "\n",
    "sock = socket.socket()\n",
    "sock.bind((\"\", 10001))\n",
    "sock.listen()\n",
    "\n",
    "# как обработать запросы для conn1 и conn2\n",
    "# одновременно без потоков?\n",
    "conn1, addr = sock.accept()\n",
    "conn2, addr = sock.accept()\n",
    "\n",
    "conn1.setblocking(0)\n",
    "conn2.setblocking(0)\n",
    "    \n",
    "epoll = select.epoll()\n",
    "epoll.register(conn1.fileno(), select.EPOLLIN | select.EPOLLOUT)\n",
    "epoll.register(conn2.fileno(), select.EPOLLIN | select.EPOLLOUT)\n",
    "\n",
    "conn_map = {\n",
    "    conn1.fileno(): conn1,\n",
    "    conn2.fileno(): conn2,\n",
    "}"
   ]
  },
  {
   "cell_type": "code",
   "execution_count": null,
   "metadata": {},
   "outputs": [],
   "source": [
    "# Неблокирующий ввод/вывод, обучающий пример\n",
    "# Цикл обработки событий в epoll\n",
    "\n",
    "while True:\n",
    "    events = epoll.poll(1)\n",
    "    \n",
    "    for fileno, event in events:\n",
    "        if event & select.EPOLLIN:\n",
    "            # обработка чтения из сокета\n",
    "            data=conn_map[fileno].recv(1024)\n",
    "            print(data.decode(\"utf8\"))\n",
    "        elif event & select.EPOLLOUT:\n",
    "            # обработка записи в сокет\n",
    "            conn_map[fileno].send(\"pong\".encode(\"utf8\"))"
   ]
  },
  {
   "cell_type": "markdown",
   "metadata": {},
   "source": [
    "#### Итераторы и генераторы, в чем разница?\n",
    "Как устроены итераторы и генераторы   \n",
    "Сходства и различия  "
   ]
  },
  {
   "cell_type": "code",
   "execution_count": 2,
   "metadata": {},
   "outputs": [],
   "source": [
    "class MyRangeIterator:\n",
    "    def __init__(self, top):\n",
    "        self.top = top\n",
    "        self.current = 0\n",
    "    \n",
    "    def __iter__(self):\n",
    "        return self\n",
    "    \n",
    "    def __next__(self):\n",
    "        if self.current >= self.top:\n",
    "            raise StopIteration\n",
    "        \n",
    "        current = self.current\n",
    "        self.current += 1\n",
    "        return current"
   ]
  },
  {
   "cell_type": "code",
   "execution_count": 5,
   "metadata": {},
   "outputs": [
    {
     "name": "stdout",
     "output_type": "stream",
     "text": [
      "<__main__.MyRangeIterator object at 0x0605E8F0>\n",
      "0\n",
      "1\n",
      "2\n",
      "3\n",
      "4\n",
      "5\n"
     ]
    }
   ],
   "source": [
    "counter = MyRangeIterator(6)\n",
    "print(counter)\n",
    "for it in counter:\n",
    "     print(it)"
   ]
  },
  {
   "cell_type": "code",
   "execution_count": 6,
   "metadata": {},
   "outputs": [
    {
     "name": "stdout",
     "output_type": "stream",
     "text": [
      "<generator object my_range_generator at 0x00BA9F30>\n",
      "0\n",
      "1\n",
      "2\n"
     ]
    }
   ],
   "source": [
    "# Генераторы\n",
    "\n",
    "def my_range_generator(top):\n",
    "    current = 0\n",
    "    while current < top:\n",
    "        yield current \n",
    "        current += 1\n",
    "        \n",
    "counter = my_range_generator(3)\n",
    "print(counter)\n",
    "\n",
    "for it in counter:\n",
    "    print(it)"
   ]
  },
  {
   "cell_type": "markdown",
   "metadata": {},
   "source": [
    "### Генераторы и сопрограммы"
   ]
  },
  {
   "cell_type": "code",
   "execution_count": 7,
   "metadata": {},
   "outputs": [
    {
     "name": "stdout",
     "output_type": "stream",
     "text": [
      "start grep\n",
      "python is simple!\n"
     ]
    }
   ],
   "source": [
    "# Сопрограммы (корутины)\n",
    "\n",
    "def grep(pattern):\n",
    "    print(\"start grep\")\n",
    "    while True:\n",
    "        line = yield\n",
    "        if pattern in line:\n",
    "            print(line)\n",
    "\n",
    "g = grep(\"python\")\n",
    "next(g) # g.send(None)\n",
    "\n",
    "g.send(\"golang is better?\")\n",
    "g.send(\"python is simple!\")\n"
   ]
  },
  {
   "cell_type": "code",
   "execution_count": 8,
   "metadata": {},
   "outputs": [
    {
     "name": "stdout",
     "output_type": "stream",
     "text": [
      "start grep\n",
      "python is the best!\n",
      "stop grep\n"
     ]
    }
   ],
   "source": [
    "# Сопрограммы, вызов метода close()\n",
    "\n",
    "def grep(pattern):\n",
    "    print(\"start grep\")\n",
    "    try:\n",
    "        while True:\n",
    "            line = yield\n",
    "            if pattern in line:\n",
    "                print(line)\n",
    "    except GeneratorExit:\n",
    "        print(\"stop grep\")\n",
    "\n",
    "g = grep(\"python\")\n",
    "next(g)  # g.send(None)\n",
    "\n",
    "g.send(\"python is the best!\")\n",
    "\n",
    "g.close()\n"
   ]
  },
  {
   "cell_type": "code",
   "execution_count": 9,
   "metadata": {},
   "outputs": [
    {
     "name": "stdout",
     "output_type": "stream",
     "text": [
      "start grep\n",
      "python is the best!\n"
     ]
    },
    {
     "ename": "RuntimeError",
     "evalue": "something wrong",
     "output_type": "error",
     "traceback": [
      "\u001b[1;31m---------------------------------------------------------------------------\u001b[0m",
      "\u001b[1;31mRuntimeError\u001b[0m                              Traceback (most recent call last)",
      "\u001b[1;32m<ipython-input-9-86298be0f52f>\u001b[0m in \u001b[0;36m<module>\u001b[1;34m()\u001b[0m\n\u001b[0;32m     14\u001b[0m \u001b[0mnext\u001b[0m\u001b[1;33m(\u001b[0m\u001b[0mg\u001b[0m\u001b[1;33m)\u001b[0m \u001b[1;31m# g.send(None)\u001b[0m\u001b[1;33m\u001b[0m\u001b[0m\n\u001b[0;32m     15\u001b[0m \u001b[0mg\u001b[0m\u001b[1;33m.\u001b[0m\u001b[0msend\u001b[0m\u001b[1;33m(\u001b[0m\u001b[1;34m\"python is the best!\"\u001b[0m\u001b[1;33m)\u001b[0m\u001b[1;33m\u001b[0m\u001b[0m\n\u001b[1;32m---> 16\u001b[1;33m \u001b[0mg\u001b[0m\u001b[1;33m.\u001b[0m\u001b[0mthrow\u001b[0m\u001b[1;33m(\u001b[0m\u001b[0mRuntimeError\u001b[0m\u001b[1;33m,\u001b[0m \u001b[1;34m\"something wrong\"\u001b[0m\u001b[1;33m)\u001b[0m\u001b[1;33m\u001b[0m\u001b[0m\n\u001b[0m",
      "\u001b[1;32m<ipython-input-9-86298be0f52f>\u001b[0m in \u001b[0;36mgrep\u001b[1;34m(pattern)\u001b[0m\n\u001b[0;32m      5\u001b[0m     \u001b[1;32mtry\u001b[0m\u001b[1;33m:\u001b[0m\u001b[1;33m\u001b[0m\u001b[0m\n\u001b[0;32m      6\u001b[0m         \u001b[1;32mwhile\u001b[0m \u001b[1;32mTrue\u001b[0m\u001b[1;33m:\u001b[0m\u001b[1;33m\u001b[0m\u001b[0m\n\u001b[1;32m----> 7\u001b[1;33m             \u001b[0mline\u001b[0m \u001b[1;33m=\u001b[0m \u001b[1;32myield\u001b[0m\u001b[1;33m\u001b[0m\u001b[0m\n\u001b[0m\u001b[0;32m      8\u001b[0m             \u001b[1;32mif\u001b[0m \u001b[0mpattern\u001b[0m \u001b[1;32min\u001b[0m \u001b[0mline\u001b[0m\u001b[1;33m:\u001b[0m\u001b[1;33m\u001b[0m\u001b[0m\n\u001b[0;32m      9\u001b[0m                 \u001b[0mprint\u001b[0m\u001b[1;33m(\u001b[0m\u001b[0mline\u001b[0m\u001b[1;33m)\u001b[0m\u001b[1;33m\u001b[0m\u001b[0m\n",
      "\u001b[1;31mRuntimeError\u001b[0m: something wrong"
     ]
    }
   ],
   "source": [
    "# Сопрограммы, генерация исключений\n",
    "\n",
    "def grep(pattern):\n",
    "    print(\"start grep\")\n",
    "    try:\n",
    "        while True:\n",
    "            line = yield\n",
    "            if pattern in line:\n",
    "                print(line)\n",
    "    except GeneratorExit:\n",
    "        print(\"stop grep\")\n",
    "\n",
    "g = grep(\"python\")\n",
    "next(g) # g.send(None)\n",
    "g.send(\"python is the best!\")\n",
    "g.throw(RuntimeError, \"something wrong\")\n"
   ]
  },
  {
   "cell_type": "code",
   "execution_count": 10,
   "metadata": {},
   "outputs": [
    {
     "name": "stdout",
     "output_type": "stream",
     "text": [
      "start grep\n",
      "python is the best!\n",
      "None\n"
     ]
    }
   ],
   "source": [
    "# Вызовы сопрограмм, PEP 380\n",
    "\n",
    "def grep(pattern):\n",
    "    print(\"start grep\")\n",
    "    while True:\n",
    "        line = yield\n",
    "        if pattern in line:\n",
    "            print(line)\n",
    "\n",
    "def grep_python_coroutine():\n",
    "    g = grep(\"python\")\n",
    "    next(g)\n",
    "    g.send(\"python is the best!\")\n",
    "    g.close()\n",
    "\n",
    "g = grep_python_coroutine()  # is g coroutine?\n",
    "\n",
    "print(g)\n"
   ]
  },
  {
   "cell_type": "code",
   "execution_count": 11,
   "metadata": {},
   "outputs": [
    {
     "name": "stdout",
     "output_type": "stream",
     "text": [
      "<generator object grep_python_coroutine at 0x00BA9E30>\n",
      "start grep\n",
      "python wow!\n"
     ]
    }
   ],
   "source": [
    "# Сопрограммы, yield from PEP 0380\n",
    "\n",
    "def grep(pattern):\n",
    "    print(\"start grep\")\n",
    "    while True:\n",
    "        line = yield\n",
    "        if pattern in line:\n",
    "            print(line)\n",
    "\n",
    "def grep_python_coroutine():\n",
    "    g = grep(\"python\")\n",
    "    yield from g\n",
    "\n",
    "g = grep_python_coroutine()  # is g coroutine?\n",
    "print(g)\n",
    "\n",
    "g.send(None)\n",
    "\n",
    "g.send(\"python wow!\")\n"
   ]
  },
  {
   "cell_type": "code",
   "execution_count": 2,
   "metadata": {},
   "outputs": [
    {
     "name": "stdout",
     "output_type": "stream",
     "text": [
      "1\n",
      "2\n",
      "3\n",
      "4\n",
      "5\n"
     ]
    }
   ],
   "source": [
    "# PEP 380, генераторы\n",
    "\n",
    "def chain(x_iterable, y_iterable):\n",
    "    yield from x_iterable\n",
    "    yield from y_iterable\n",
    "\n",
    "def the_same_chain(x_iterable, y_iterable):\n",
    "    for x in x_iterable:\n",
    "        yield x\n",
    "    \n",
    "    for y in y_iterable:\n",
    "        yield y\n",
    "    \n",
    "a = [1, 2, 3]\n",
    "b = (4, 5)\n",
    "for x in chain(a, b):\n",
    "    print(x)"
   ]
  },
  {
   "cell_type": "code",
   "execution_count": 3,
   "metadata": {},
   "outputs": [
    {
     "name": "stdout",
     "output_type": "stream",
     "text": [
      "1\n",
      "2\n",
      "3\n",
      "4\n",
      "5\n"
     ]
    }
   ],
   "source": [
    "for x in the_same_chain(a, b):\n",
    "    print(x)"
   ]
  },
  {
   "cell_type": "code",
   "execution_count": null,
   "metadata": {},
   "outputs": [],
   "source": []
  }
 ],
 "metadata": {
  "kernelspec": {
   "display_name": "Python 3",
   "language": "python",
   "name": "python3"
  },
  "language_info": {
   "codemirror_mode": {
    "name": "ipython",
    "version": 3
   },
   "file_extension": ".py",
   "mimetype": "text/x-python",
   "name": "python",
   "nbconvert_exporter": "python",
   "pygments_lexer": "ipython3",
   "version": "3.7.0"
  }
 },
 "nbformat": 4,
 "nbformat_minor": 2
}
