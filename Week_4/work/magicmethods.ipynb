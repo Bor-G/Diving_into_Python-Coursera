{
 "cells": [
  {
   "cell_type": "markdown",
   "metadata": {},
   "source": [
    "### Магические методы"
   ]
  },
  {
   "cell_type": "code",
   "execution_count": 2,
   "metadata": {},
   "outputs": [
    {
     "name": "stdout",
     "output_type": "stream",
     "text": [
      "{'name': 'Jane Doe', 'email': 'janedoe@example.com'}\n"
     ]
    }
   ],
   "source": [
    "class User:\n",
    "    def __init__(self, name, email):\n",
    "        self.name = name\n",
    "        self.email = email\n",
    "    \n",
    "    def get_email_data(self):\n",
    "        return {\n",
    "            'name': self.name,\n",
    "            'email': self.email\n",
    "        }\n",
    "    \n",
    "jane = User('Jane Doe', 'janedoe@example.com')\n",
    "\n",
    "print(jane.get_email_data())"
   ]
  },
  {
   "cell_type": "code",
   "execution_count": 3,
   "metadata": {},
   "outputs": [
    {
     "data": {
      "text/plain": [
       "True"
      ]
     },
     "execution_count": 3,
     "metadata": {},
     "output_type": "execute_result"
    }
   ],
   "source": [
    "class Singleton:\n",
    "    instance = None\n",
    "\n",
    "    def __new__(cls):\n",
    "        if cls.instance is None:\n",
    "            cls.instance = super().__new__(cls)\n",
    "    \n",
    "        return cls.instance\n",
    "    \n",
    "\n",
    "a = Singleton()\n",
    "b = Singleton()\n",
    "\n",
    "a is b"
   ]
  },
  {
   "cell_type": "code",
   "execution_count": 4,
   "metadata": {},
   "outputs": [
    {
     "name": "stdout",
     "output_type": "stream",
     "text": [
      "Jane Doe <janedoe@example.com>\n"
     ]
    }
   ],
   "source": [
    "# __str__\n",
    "\n",
    "class User:\n",
    "    def __init__(self, name, email):\n",
    "        self.name = name\n",
    "        self.email = email\n",
    "    \n",
    "    def __str__(self):\n",
    "        return '{} <{}>'.format(self.name, self.email)\n",
    "\n",
    "\n",
    "jane = User('Jane Doe', 'janedoe@example.com')\n",
    "\n",
    "print(jane)"
   ]
  },
  {
   "cell_type": "code",
   "execution_count": 5,
   "metadata": {},
   "outputs": [
    {
     "name": "stdout",
     "output_type": "stream",
     "text": [
      "True\n"
     ]
    }
   ],
   "source": [
    "# __hash__, __eq__\n",
    "\n",
    "class User:\n",
    "    def __init__(self, name, email):\n",
    "        self.name = name\n",
    "        self.email = email\n",
    "    \n",
    "    def __hash__(self):\n",
    "        return hash(self.email)\n",
    "\n",
    "    def __eq__(self, obj):\n",
    "        return self.email == obj.email\n",
    "\n",
    "    \n",
    "jane = User('Jane Doe', 'jdoe@example.com')\n",
    "joe = User('Joe Doe', 'jdoe@example.com')\n",
    "\n",
    "\n",
    "print(jane == joe)"
   ]
  },
  {
   "cell_type": "code",
   "execution_count": 6,
   "metadata": {},
   "outputs": [
    {
     "name": "stdout",
     "output_type": "stream",
     "text": [
      "504391755\n",
      "504391755\n"
     ]
    }
   ],
   "source": [
    "print(hash(jane))\n",
    "print(hash(joe))"
   ]
  },
  {
   "cell_type": "code",
   "execution_count": 7,
   "metadata": {},
   "outputs": [
    {
     "name": "stdout",
     "output_type": "stream",
     "text": [
      "{<__main__.User object at 0x05574FF0>: 'Joe Doe'}\n"
     ]
    }
   ],
   "source": [
    "user_email_map = {user: user.name for user in [jane, joe]}\n",
    "\n",
    "print(user_email_map)"
   ]
  },
  {
   "cell_type": "code",
   "execution_count": 8,
   "metadata": {},
   "outputs": [
    {
     "name": "stdout",
     "output_type": "stream",
     "text": [
      "nope\n",
      "nope\n",
      "nope\n"
     ]
    }
   ],
   "source": [
    "# __getattr__, __getattribute__, __setattr__, __delattr__\n",
    "\n",
    "class Researcher:\n",
    "    def __getattr__(self, name):\n",
    "        return 'Nothing found :('\n",
    "    \n",
    "    def __getattribute__(self, name):\n",
    "        return 'nope'\n",
    "    \n",
    "\n",
    "obj = Researcher()\n",
    "\n",
    "print(obj.attr)\n",
    "print(obj.method)\n",
    "print(obj.DFG2H3J00KLL)\n"
   ]
  },
  {
   "cell_type": "code",
   "execution_count": 9,
   "metadata": {},
   "outputs": [
    {
     "name": "stdout",
     "output_type": "stream",
     "text": [
      "Looking for attr\n",
      "Nothing found :()\n",
      "\n",
      "Looking for method\n",
      "Nothing found :()\n",
      "\n",
      "Looking for DFG2H3J00KLL\n",
      "Nothing found :()\n",
      "\n"
     ]
    }
   ],
   "source": [
    "class Researcher:\n",
    "    def __getattr__(self, name):\n",
    "        return 'Nothing found :()\\n'\n",
    "    \n",
    "    def __getattribute__(self, name):\n",
    "        print('Looking for {}'.format(name))\n",
    "        return object.__getattribute__(self, name)\n",
    "    \n",
    "\n",
    "obj = Researcher()\n",
    "\n",
    "print(obj.attr)\n",
    "print(obj.method)\n",
    "print(obj.DFG2H3J00KLL)"
   ]
  },
  {
   "cell_type": "code",
   "execution_count": 10,
   "metadata": {},
   "outputs": [
    {
     "name": "stdout",
     "output_type": "stream",
     "text": [
      "Not gonna set math!\n"
     ]
    }
   ],
   "source": [
    "class Ignorant:\n",
    "    def __setattr__(self, name, value):\n",
    "        print('Not gonna set {}!'.format(name))\n",
    "        \n",
    "\n",
    "obj  = Ignorant()\n",
    "obj.math = True"
   ]
  },
  {
   "cell_type": "code",
   "execution_count": 11,
   "metadata": {},
   "outputs": [
    {
     "ename": "AttributeError",
     "evalue": "'Ignorant' object has no attribute 'math'",
     "output_type": "error",
     "traceback": [
      "\u001b[1;31m---------------------------------------------------------------------------\u001b[0m",
      "\u001b[1;31mAttributeError\u001b[0m                            Traceback (most recent call last)",
      "\u001b[1;32m<ipython-input-11-f41a5f04e4f0>\u001b[0m in \u001b[0;36m<module>\u001b[1;34m()\u001b[0m\n\u001b[1;32m----> 1\u001b[1;33m \u001b[0mprint\u001b[0m\u001b[1;33m(\u001b[0m\u001b[0mobj\u001b[0m\u001b[1;33m.\u001b[0m\u001b[0mmath\u001b[0m\u001b[1;33m)\u001b[0m\u001b[1;33m\u001b[0m\u001b[0m\n\u001b[0m",
      "\u001b[1;31mAttributeError\u001b[0m: 'Ignorant' object has no attribute 'math'"
     ]
    }
   ],
   "source": [
    "print(obj.math)"
   ]
  },
  {
   "cell_type": "code",
   "execution_count": 12,
   "metadata": {},
   "outputs": [
    {
     "name": "stdout",
     "output_type": "stream",
     "text": [
      "Goodbye attr, you were 10!\n"
     ]
    }
   ],
   "source": [
    "class Polite:    \n",
    "    def __delattr__(self, name):\n",
    "        value = getattr(self, name)\n",
    "        print(f'Goodbye {name}, you were {value}!')\n",
    "\n",
    "        object.__delattr__(self, name)\n",
    "        \n",
    "\n",
    "obj = Polite()\n",
    "\n",
    "obj.attr = 10\n",
    "del obj.attr"
   ]
  },
  {
   "cell_type": "code",
   "execution_count": 18,
   "metadata": {},
   "outputs": [],
   "source": [
    "# __call__\n",
    "\n",
    "class Logger:\n",
    "    def __init__(self, filename):\n",
    "        self.filename = filename\n",
    "    \n",
    "    def __call__(self, func):\n",
    "        def wrapped(*args, **kwargs):\n",
    "            with open(self.filename, 'w') as f:\n",
    "                f.write('Oh Danny boy...')\n",
    "            return func(*args, **kwargs)\n",
    "        return wrapped\n",
    "    \n",
    "logger = Logger('log.txt')\n",
    "\n",
    "@logger\n",
    "def completely_useless_function():\n",
    "    pass"
   ]
  },
  {
   "cell_type": "code",
   "execution_count": 21,
   "metadata": {},
   "outputs": [
    {
     "name": "stdout",
     "output_type": "stream",
     "text": [
      "Oh Danny boy...\n"
     ]
    }
   ],
   "source": [
    "completely_useless_function()\n",
    "\n",
    "with open('log.txt') as f:\n",
    "    print(f.read())"
   ]
  },
  {
   "cell_type": "code",
   "execution_count": 8,
   "metadata": {},
   "outputs": [],
   "source": [
    "# __add__\n",
    "\n",
    "import random\n",
    "\n",
    "class NoisyInt:\n",
    "    def __init__(self, value):\n",
    "        self.value = value\n",
    "\n",
    "    def __add__(self, obj):\n",
    "        noise = random.uniform(-1, 1)\n",
    "        return self.value + obj.value + noise\n",
    "    \n",
    "a = NoisyInt(10)\n",
    "b = NoisyInt(20)"
   ]
  },
  {
   "cell_type": "code",
   "execution_count": 9,
   "metadata": {},
   "outputs": [
    {
     "name": "stdout",
     "output_type": "stream",
     "text": [
      "30.55290092371623\n",
      "29.821250395737138\n",
      "29.882941548581357\n",
      "29.011224838489742\n",
      "30.980369283412813\n"
     ]
    }
   ],
   "source": [
    "for _ in range(5):\n",
    "    print(a + b)"
   ]
  },
  {
   "cell_type": "code",
   "execution_count": 13,
   "metadata": {},
   "outputs": [
    {
     "name": "stdout",
     "output_type": "stream",
     "text": [
      "1\n"
     ]
    }
   ],
   "source": [
    "# Написать свой контейнер с помощью __getitem__, __setitem__\n",
    "\n",
    "class PascalList:\n",
    "    def __init__(self, original_list=None):\n",
    "        self.container = original_list or []\n",
    "        \n",
    "    def __getitem__(self, index):\n",
    "        return self.container[index - 1]\n",
    "    \n",
    "    def __setitem__(self, index, value):\n",
    "        self.container[index - 1] = value\n",
    "        \n",
    "    def __str__(self):\n",
    "        return self.container.__str__()\n",
    "        \n",
    "numbers = PascalList([1, 2, 3, 4, 5])\n",
    "\n",
    "print(numbers[1])"
   ]
  },
  {
   "cell_type": "code",
   "execution_count": 14,
   "metadata": {},
   "outputs": [
    {
     "name": "stdout",
     "output_type": "stream",
     "text": [
      "[1, 2, 3, 4, 5]\n"
     ]
    }
   ],
   "source": [
    "print(numbers)"
   ]
  }
 ],
 "metadata": {
  "kernelspec": {
   "display_name": "Python 3",
   "language": "python",
   "name": "python3"
  },
  "language_info": {
   "codemirror_mode": {
    "name": "ipython",
    "version": 3
   },
   "file_extension": ".py",
   "mimetype": "text/x-python",
   "name": "python",
   "nbconvert_exporter": "python",
   "pygments_lexer": "ipython3",
   "version": "3.7.0"
  }
 },
 "nbformat": 4,
 "nbformat_minor": 2
}
