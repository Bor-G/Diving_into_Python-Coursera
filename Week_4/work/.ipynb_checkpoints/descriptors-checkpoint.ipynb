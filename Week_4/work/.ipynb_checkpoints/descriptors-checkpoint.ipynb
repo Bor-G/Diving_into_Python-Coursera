{
 "cells": [
  {
   "cell_type": "markdown",
   "metadata": {},
   "source": [
    "### Дескрипторы"
   ]
  },
  {
   "cell_type": "code",
   "execution_count": 1,
   "metadata": {},
   "outputs": [],
   "source": [
    "class Descriptor:\n",
    "    def __get__(self, obj, obj_type):\n",
    "        print('get')\n",
    "        \n",
    "    def __set__(self, obj, value):\n",
    "        print('set')\n",
    "        \n",
    "    def __delete__(self, obj):\n",
    "        print('delete')\n",
    "\n",
    "\n",
    "class Class:\n",
    "    attr = Descriptor()\n",
    "    \n",
    "\n",
    "instance = Class()"
   ]
  },
  {
   "cell_type": "code",
   "execution_count": 2,
   "metadata": {},
   "outputs": [
    {
     "name": "stdout",
     "output_type": "stream",
     "text": [
      "get\n"
     ]
    }
   ],
   "source": [
    "instance.attr"
   ]
  },
  {
   "cell_type": "code",
   "execution_count": 3,
   "metadata": {},
   "outputs": [
    {
     "name": "stdout",
     "output_type": "stream",
     "text": [
      "set\n"
     ]
    }
   ],
   "source": [
    "instance.attr = 10"
   ]
  },
  {
   "cell_type": "code",
   "execution_count": 4,
   "metadata": {},
   "outputs": [
    {
     "name": "stdout",
     "output_type": "stream",
     "text": [
      "delete\n"
     ]
    }
   ],
   "source": [
    "del instance.attr"
   ]
  },
  {
   "cell_type": "code",
   "execution_count": 5,
   "metadata": {},
   "outputs": [],
   "source": [
    "# определяем дескриптор Value, который будет переопределять поведение при присваивании значения ему\n",
    "class Value:\n",
    "    def __init__(self):\n",
    "        self.value = None\n",
    "    \n",
    "    @staticmethod\n",
    "    def _prepare_value(value):\n",
    "        return value * 10\n",
    "\n",
    "    def __get__(self, obj, obj_type):\n",
    "        return self.value\n",
    "    \n",
    "    def __set__(self, obj, value):\n",
    "        self.value = self._prepare_value(value)"
   ]
  },
  {
   "cell_type": "code",
   "execution_count": 6,
   "metadata": {},
   "outputs": [
    {
     "name": "stdout",
     "output_type": "stream",
     "text": [
      "100\n"
     ]
    }
   ],
   "source": [
    "class Class:\n",
    "    attr = Value()\n",
    "\n",
    "    \n",
    "instance = Class()\n",
    "instance.attr = 10\n",
    "\n",
    "print(instance.attr)"
   ]
  },
  {
   "cell_type": "markdown",
   "metadata": {},
   "source": [
    "### Функции и методы"
   ]
  },
  {
   "cell_type": "code",
   "execution_count": 3,
   "metadata": {},
   "outputs": [
    {
     "name": "stdout",
     "output_type": "stream",
     "text": [
      "<bound method Class.method of <__main__.Class object at 0x055741F0>>\n",
      "<function Class.method at 0x05327540>\n"
     ]
    }
   ],
   "source": [
    "class Class:\n",
    "    def method(self):\n",
    "        pass\n",
    "    \n",
    "    \n",
    "obj = Class()    \n",
    "\n",
    "print(obj.method)\n",
    "print(Class.method)"
   ]
  },
  {
   "cell_type": "code",
   "execution_count": 4,
   "metadata": {},
   "outputs": [
    {
     "name": "stdout",
     "output_type": "stream",
     "text": [
      "Amy Jones\n",
      "<property object at 0x055772D0>\n"
     ]
    }
   ],
   "source": [
    "class User:\n",
    "    def __init__(self, first_name, last_name):\n",
    "        self.first_name = first_name\n",
    "        self.last_name = last_name\n",
    "    \n",
    "    @property\n",
    "    def full_name(self):\n",
    "        return f'{self.first_name} {self.last_name}'\n",
    "    \n",
    "\n",
    "amy = User('Amy', 'Jones')\n",
    "\n",
    "print(amy.full_name)\n",
    "print(User.full_name)"
   ]
  },
  {
   "cell_type": "code",
   "execution_count": 5,
   "metadata": {},
   "outputs": [],
   "source": [
    "class Property:\n",
    "    def __init__(self, getter):\n",
    "        self.getter = getter\n",
    "\n",
    "    def __get__(self, obj, obj_type=None):\n",
    "        if obj is None:\n",
    "            return self\n",
    "\n",
    "        return self.getter(obj)"
   ]
  },
  {
   "cell_type": "code",
   "execution_count": 19,
   "metadata": {},
   "outputs": [],
   "source": [
    "class Class:\n",
    "    @property\n",
    "    def original(self):\n",
    "        return 'original'\n",
    "    \n",
    "    @Property\n",
    "    def custom_sugar(self):\n",
    "        return 'custom sugar'\n",
    "    \n",
    "    def custom_pure(self):\n",
    "        return 'custom pure'\n",
    "    \n",
    "    custom_pure = Property(custom_pure)"
   ]
  },
  {
   "cell_type": "code",
   "execution_count": 20,
   "metadata": {},
   "outputs": [
    {
     "name": "stdout",
     "output_type": "stream",
     "text": [
      "original\n",
      "custom sugar\n",
      "custom pure\n"
     ]
    }
   ],
   "source": [
    "obj = Class()\n",
    "\n",
    "print(obj.original)\n",
    "print(obj.custom_sugar)\n",
    "print(obj.custom_pure)"
   ]
  },
  {
   "cell_type": "code",
   "execution_count": 21,
   "metadata": {},
   "outputs": [],
   "source": [
    "class StaticMethod:\n",
    "    def __init__(self, func):\n",
    "        self.func = func\n",
    "\n",
    "    def __get__(self, obj, obj_type=None):\n",
    "        return self.func"
   ]
  },
  {
   "cell_type": "code",
   "execution_count": 23,
   "metadata": {},
   "outputs": [],
   "source": [
    "class ClassMethod:\n",
    "    def __init__(self, func):\n",
    "        self.func = func\n",
    "\n",
    "    def __get__(self, obj, obj_type=None):\n",
    "        if obj_type is None:\n",
    "            obj_type = type(obj)\n",
    "\n",
    "        def new_func(*args, **kwargs):\n",
    "            return self.func(obj_type, *args, **kwargs)\n"
   ]
  },
  {
   "cell_type": "code",
   "execution_count": 25,
   "metadata": {},
   "outputs": [
    {
     "ename": "AttributeError",
     "evalue": "'Class' object has no attribute 'luke'",
     "output_type": "error",
     "traceback": [
      "\u001b[1;31m---------------------------------------------------------------------------\u001b[0m",
      "\u001b[1;31mAttributeError\u001b[0m                            Traceback (most recent call last)",
      "\u001b[1;32m<ipython-input-25-997d22f2736a>\u001b[0m in \u001b[0;36m<module>\u001b[1;34m()\u001b[0m\n\u001b[0;32m     10\u001b[0m \u001b[0mobj\u001b[0m \u001b[1;33m=\u001b[0m \u001b[0mClass\u001b[0m\u001b[1;33m(\u001b[0m\u001b[1;33m)\u001b[0m\u001b[1;33m\u001b[0m\u001b[0m\n\u001b[0;32m     11\u001b[0m \u001b[1;33m\u001b[0m\u001b[0m\n\u001b[1;32m---> 12\u001b[1;33m \u001b[0mobj\u001b[0m\u001b[1;33m.\u001b[0m\u001b[0mluke\u001b[0m \u001b[1;33m=\u001b[0m \u001b[1;34m'the chosen too'\u001b[0m\u001b[1;33m\u001b[0m\u001b[0m\n\u001b[0m",
      "\u001b[1;31mAttributeError\u001b[0m: 'Class' object has no attribute 'luke'"
     ]
    }
   ],
   "source": [
    "# __slots__ (ограничивает список атрибутов)\n",
    "\n",
    "class Class:\n",
    "    __slots__ = ['anakin']\n",
    "    \n",
    "    def __init__(self):\n",
    "        self.anakin = 'the chosen one'\n",
    "\n",
    "        \n",
    "obj = Class()\n",
    "\n",
    "obj.luke = 'the chosen too'"
   ]
  },
  {
   "cell_type": "code",
   "execution_count": null,
   "metadata": {},
   "outputs": [],
   "source": []
  }
 ],
 "metadata": {
  "kernelspec": {
   "display_name": "Python 3",
   "language": "python",
   "name": "python3"
  },
  "language_info": {
   "codemirror_mode": {
    "name": "ipython",
    "version": 3
   },
   "file_extension": ".py",
   "mimetype": "text/x-python",
   "name": "python",
   "nbconvert_exporter": "python",
   "pygments_lexer": "ipython3",
   "version": "3.7.0"
  }
 },
 "nbformat": 4,
 "nbformat_minor": 2
}
