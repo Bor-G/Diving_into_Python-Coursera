{
 "cells": [
  {
   "cell_type": "code",
   "execution_count": 10,
   "metadata": {},
   "outputs": [
    {
     "name": "stdout",
     "output_type": "stream",
     "text": [
      "> <ipython-input-10-499ba1a0c535>(9)main()\n",
      "-> site_code = get_site_code(site_url)\n",
      "(Pdb) c\n",
      "\"script\" found 3 times in mail.ru\n"
     ]
    }
   ],
   "source": [
    "import re\n",
    "import requests\n",
    "\n",
    "def main(site_url, substring):  \n",
    "    \n",
    "    import pdb\n",
    "    pdb.set_trace()\n",
    "    \n",
    "    site_code = get_site_code(site_url)\n",
    "    matching_substrings = get_matching_substrings(site_code, substring)\n",
    "    print('\"{}\" found {} times in {}'.format(\n",
    "        substring, len(matching_substrings), site_url\n",
    "    ))\n",
    "    \n",
    "def get_site_code(site_url):\n",
    "    if not site_url.startswith('http'):\n",
    "        site_url = 'http://' + site_url\n",
    "\n",
    "    return requests.get(site_url).text\n",
    "\n",
    "def get_matching_substrings(source, substring):\n",
    "    return re.findall(substring, source)\n",
    "\n",
    "\n",
    "main('mail.ru', 'script')\n"
   ]
  },
  {
   "cell_type": "code",
   "execution_count": null,
   "metadata": {},
   "outputs": [],
   "source": []
  }
 ],
 "metadata": {
  "kernelspec": {
   "display_name": "Python 3",
   "language": "python",
   "name": "python3"
  },
  "language_info": {
   "codemirror_mode": {
    "name": "ipython",
    "version": 3
   },
   "file_extension": ".py",
   "mimetype": "text/x-python",
   "name": "python",
   "nbconvert_exporter": "python",
   "pygments_lexer": "ipython3",
   "version": "3.7.0"
  }
 },
 "nbformat": 4,
 "nbformat_minor": 2
}
